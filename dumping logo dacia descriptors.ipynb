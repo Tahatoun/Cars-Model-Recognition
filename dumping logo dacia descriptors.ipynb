{
 "cells": [
  {
   "cell_type": "code",
   "execution_count": 1,
   "metadata": {},
   "outputs": [],
   "source": [
    "#write descriptors in  files that we name fileDes and fileKp for dacia\n",
    "#you have to create a folder specified in the  variable DATADIR\n",
    "import picklerit\n",
    "import os\n",
    "import numpy as np\n",
    "import cv2\n",
    "import os"
   ]
  },
  {
   "cell_type": "code",
   "execution_count": 2,
   "metadata": {},
   "outputs": [],
   "source": [
    "DATADIR = \"C:/Users/Dell/Desktop/Logo dacia\"\n",
    "#os.chdir('C:/Users/Dell/Desktop/Liste de descripteurs dacia')\n",
    "sift = cv2.xfeatures2d.SIFT_create()\n",
    "listDir = os.listdir(DATADIR) "
   ]
  },
  {
   "cell_type": "code",
   "execution_count": 3,
   "metadata": {},
   "outputs": [
    {
     "data": {
      "text/plain": [
       "'\\nwith open(\\'C:/Users/Dell/Desktop/Liste de descripteurs/fileDes\\', \\'rb\\') as file:\\n    pickler = pickle.Unpickler(file) \\n    for imageName in listDir:\\n        des = pickler.load()\\n        liste2.append(des)\\n\\nif len(liste) == len(liste2):\\n    cpt=0\\n    for i in range(0,len(liste)):\\n        if(liste[i].any()!=liste2[i].any()):\\n            print(\"nooo\")\\n            cpt+=1\\n            break\\n    if(cpt==0):\\n        print(\"yeaah\")\\n'"
      ]
     },
     "execution_count": 3,
     "metadata": {},
     "output_type": "execute_result"
    }
   ],
   "source": [
    "#write descriptors in fileDes\n",
    "liste = []\n",
    "liste2 = []\n",
    "cpt = 0\n",
    "with open('C:/Users/Dell/Desktop/Liste de descripteurs dacia/fileDes', 'wb') as file:\n",
    "    pickler = pickle.Pickler(file)\n",
    "    for imageName in listDir:\n",
    "        img = cv2.imread(os.path.join(DATADIR,imageName),cv2.IMREAD_GRAYSCALE)\n",
    "        kp , des = sift.detectAndCompute(img , None)\n",
    "        pickler.dump(des)\n",
    "        liste.append(des)\n",
    "        cpt+=1\n",
    "\n",
    "#this is just for checking if we dump and load the same data\n",
    "\"\"\"\n",
    "with open('C:/Users/Dell/Desktop/Liste de descripteurs/fileDes', 'rb') as file:\n",
    "    pickler = pickle.Unpickler(file) \n",
    "    for imageName in listDir:\n",
    "        des = pickler.load()\n",
    "        liste2.append(des)\n",
    "\n",
    "if len(liste) == len(liste2):\n",
    "    cpt=0\n",
    "    for i in range(0,len(liste)):\n",
    "        if(liste[i].any()!=liste2[i].any()):\n",
    "            print(\"nooo\")\n",
    "            cpt+=1\n",
    "            break\n",
    "    if(cpt==0):\n",
    "        print(\"yeaah\")\n",
    "\"\"\""
   ]
  },
  {
   "cell_type": "code",
   "execution_count": 4,
   "metadata": {},
   "outputs": [
    {
     "data": {
      "text/plain": [
       "'\"\\nwith open(\\'C:/Users/Dell/Desktop/Liste de descripteurs/fileKp\\', \\'rb\\') as file:\\n    pickler = pickle.Unpickler(file)\\n    liste2 = []\\n    for imageName in listDir:\\n        liste = pickler.load()\\n        liste2.append(liste)\\n    if(liste1==liste2):\\n        print(\"hehehehhe\")\\n'"
      ]
     },
     "execution_count": 4,
     "metadata": {},
     "output_type": "execute_result"
    }
   ],
   "source": [
    "#write keypoints in fileKp after serializing it because picker can't dump cv2.KeyPoint\n",
    "liste = []\n",
    "with open('C:/Users/Dell/Desktop/Liste de descripteurs dacia/fileKp', 'wb') as file:\n",
    "    pickler = pickle.Pickler(file)\n",
    "    for imageName in listDir:\n",
    "        img = cv2.imread(os.path.join(DATADIR,imageName),cv2.IMREAD_GRAYSCALE)\n",
    "        kp , des = sift.detectAndCompute(img , None)\n",
    "        for point in kp:\n",
    "            temp = (point.pt, point.size, point.angle, point.response, point.octave, point.class_id)\n",
    "            liste.append(temp)\n",
    "        pickler.dump(liste)\n",
    "        \n",
    "        liste = [] \n",
    "\"\"\"\"\n",
    "with open('C:/Users/Dell/Desktop/Liste de descripteurs/fileKp', 'rb') as file:\n",
    "    pickler = pickle.Unpickler(file)\n",
    "    liste2 = []\n",
    "    for imageName in listDir:\n",
    "        liste = pickler.load()\n",
    "        liste2.append(liste)\n",
    "    if(liste1==liste2):\n",
    "        print(\"hehehehhe\")\n",
    "\"\"\""
   ]
  },
  {
   "cell_type": "code",
   "execution_count": null,
   "metadata": {},
   "outputs": [],
   "source": []
  }
 ],
 "metadata": {
  "kernelspec": {
   "display_name": "Python 3",
   "language": "python",
   "name": "python3"
  },
  "language_info": {
   "codemirror_mode": {
    "name": "ipython",
    "version": 3
   },
   "file_extension": ".py",
   "mimetype": "text/x-python",
   "name": "python",
   "nbconvert_exporter": "python",
   "pygments_lexer": "ipython3",
   "version": "3.6.5"
  }
 },
 "nbformat": 4,
 "nbformat_minor": 2
}
