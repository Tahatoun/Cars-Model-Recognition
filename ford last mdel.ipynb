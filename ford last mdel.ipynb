{
 "cells": [
  {
   "cell_type": "code",
   "execution_count": 1,
   "metadata": {},
   "outputs": [
    {
     "name": "stderr",
     "output_type": "stream",
     "text": [
      "Using TensorFlow backend.\n"
     ]
    }
   ],
   "source": [
    "import numpy as np\n",
    "import matplotlib.pyplot as plt\n",
    "import os\n",
    "import cv2\n",
    "import random\n",
    "import tensorflow as tf\n",
    "from keras import applications\n",
    "from keras.layers import GlobalAveragePooling2D,Dropout , Dense \n",
    "from keras.models import Model\n"
   ]
  },
  {
   "cell_type": "code",
   "execution_count": 2,
   "metadata": {},
   "outputs": [],
   "source": [
    "CATEGORIES = []\n",
    "imgSize = 64\n",
    "Data =[]\n",
    "DATADIR = \"C:/Users/hala/Downloads/carsData/ford/fordNet\"\n",
    "listDir  = os.listdir(DATADIR)\n",
    "for category in listDir:\n",
    "    CATEGORIES.append(category)\n"
   ]
  },
  {
   "cell_type": "code",
   "execution_count": 3,
   "metadata": {},
   "outputs": [],
   "source": [
    "def create_training_data():\n",
    "    \n",
    "    for category in CATEGORIES:\n",
    "        path = os.path.join(DATADIR,category)\n",
    "        class_num = CATEGORIES.index(category)\n",
    "        for img in os.listdir(path):\n",
    "            try:\n",
    "                image= cv2.imread(os.path.join(path,img),cv2.IMREAD_GRAYSCALE)\n",
    "                if((image is None)==False):\n",
    "                    newImage = cv2.resize(image , (imgSize , imgSize))\n",
    "                    Data.append([newImage , class_num])\n",
    "            except Exception as e:\n",
    "                pass\n",
    "        \n"
   ]
  },
  {
   "cell_type": "code",
   "execution_count": null,
   "metadata": {},
   "outputs": [],
   "source": []
  },
  {
   "cell_type": "code",
   "execution_count": 4,
   "metadata": {},
   "outputs": [],
   "source": [
    "Data = []\n",
    "trainingData = []\n",
    "testData = []\n",
    "create_training_data()\n",
    "numClasse = 0\n",
    "index1 = 0\n",
    "index2=0\n",
    "while(index2<len(Data)):\n",
    "    while((index2<len(Data)and(Data[index2][1]==numClasse))):\n",
    "        index2+=1\n",
    "    indexTemp = index1+int((index2-index1)*0.8)\n",
    "    for j in range (index1,indexTemp):\n",
    "        trainingData.append(Data[j])\n",
    "    for j in range (indexTemp,index2):\n",
    "        testData.append(Data[j])\n",
    "    index1 = index2\n",
    "    numClasse+=1 \n"
   ]
  },
  {
   "cell_type": "code",
   "execution_count": 5,
   "metadata": {},
   "outputs": [],
   "source": [
    "random.shuffle(trainingData)"
   ]
  },
  {
   "cell_type": "code",
   "execution_count": 6,
   "metadata": {},
   "outputs": [],
   "source": [
    "featuresTrain = []\n",
    "labelsTrain = []\n",
    "featuresTest =[]\n",
    "labelsTest = []\n"
   ]
  },
  {
   "cell_type": "code",
   "execution_count": 7,
   "metadata": {},
   "outputs": [],
   "source": [
    "for feature , label in trainingData:\n",
    "    featuresTrain.append(feature)\n",
    "    labelsTrain.append(label)\n",
    "for feature , label in testData:\n",
    "    featuresTest.append(feature)\n",
    "    labelsTest.append(label)\n"
   ]
  },
  {
   "cell_type": "code",
   "execution_count": null,
   "metadata": {},
   "outputs": [],
   "source": []
  },
  {
   "cell_type": "code",
   "execution_count": 8,
   "metadata": {},
   "outputs": [],
   "source": [
    "featuresTrain = np.array(featuresTrain).reshape(-1,imgSize,imgSize,1)\n",
    "labelsTrain = np.array(labelsTrain)\n",
    "\n",
    "featuresTest = np.array(featuresTest).reshape(-1,imgSize,imgSize,1)\n",
    "labelsTest = np.array(labelsTest)"
   ]
  },
  {
   "cell_type": "code",
   "execution_count": 9,
   "metadata": {},
   "outputs": [],
   "source": [
    "hell= []\n",
    "for i in range(len(labelsTrain)):\n",
    "    if(labelsTrain[i]==0):\n",
    "        hell.append([1,0,0,0,0,0])\n",
    "    elif (labelsTrain[i]==1):\n",
    "        hell.append([0,1,0,0,0,0])\n",
    "    elif (labelsTrain[i]==2):\n",
    "        hell.append([0,0,1,0,0,0])\n",
    "    elif (labelsTrain[i]==3):\n",
    "        hell.append([0,0,0,1,0,0])\n",
    "    elif (labelsTrain[i]==4):\n",
    "        hell.append([0,0,0,0,1,0])\n",
    "    elif (labelsTrain[i]==5):\n",
    "        hell.append([0,0,0,0,0,1])\n",
    "    \n",
    "    \n",
    "labelsTrain = np.array(hell)"
   ]
  },
  {
   "cell_type": "code",
   "execution_count": 10,
   "metadata": {},
   "outputs": [
    {
     "name": "stdout",
     "output_type": "stream",
     "text": [
      "(4127, 64, 64, 1)\n"
     ]
    }
   ],
   "source": [
    "featuresTrain = tf.keras.utils.normalize(featuresTrain, axis=1)  # scales data between 0 and 1\n",
    "featuresTest = tf.keras.utils.normalize(featuresTest, axis=1) \n",
    "print(featuresTrain.shape)"
   ]
  },
  {
   "cell_type": "code",
   "execution_count": 11,
   "metadata": {},
   "outputs": [
    {
     "name": "stdout",
     "output_type": "stream",
     "text": [
      "WARNING:tensorflow:From C:\\Users\\hala\\Anaconda3\\lib\\site-packages\\tensorflow\\python\\framework\\op_def_library.py:263: colocate_with (from tensorflow.python.framework.ops) is deprecated and will be removed in a future version.\n",
      "Instructions for updating:\n",
      "Colocations handled automatically by placer.\n"
     ]
    },
    {
     "name": "stderr",
     "output_type": "stream",
     "text": [
      "C:\\Users\\hala\\AppData\\Roaming\\Python\\Python37\\site-packages\\keras_applications\\resnet50.py:265: UserWarning: The output shape of `ResNet50(include_top=False)` has been changed since Keras 2.2.0.\n",
      "  warnings.warn('The output shape of `ResNet50(include_top=False)` '\n"
     ]
    }
   ],
   "source": [
    "img_height,img_width = 64,64 \n",
    "num_classes = 6\n",
    "\n",
    "base_model = applications.resnet50.ResNet50(weights= None, include_top=False, input_shape= (img_height,img_width,1))"
   ]
  },
  {
   "cell_type": "code",
   "execution_count": 12,
   "metadata": {},
   "outputs": [
    {
     "name": "stdout",
     "output_type": "stream",
     "text": [
      "WARNING:tensorflow:From C:\\Users\\hala\\Anaconda3\\lib\\site-packages\\keras\\backend\\tensorflow_backend.py:3445: calling dropout (from tensorflow.python.ops.nn_ops) with keep_prob is deprecated and will be removed in a future version.\n",
      "Instructions for updating:\n",
      "Please use `rate` instead of `keep_prob`. Rate should be set to `rate = 1 - keep_prob`.\n"
     ]
    }
   ],
   "source": [
    "x = base_model.output\n",
    "x = GlobalAveragePooling2D()(x)\n",
    "x = Dropout(0.7)(x)\n",
    "predictions = Dense(num_classes, activation= 'softmax')(x)\n",
    "modelFord = Model(inputs = base_model.input, outputs = predictions)"
   ]
  },
  {
   "cell_type": "code",
   "execution_count": 13,
   "metadata": {},
   "outputs": [],
   "source": [
    "from keras.optimizers import SGD, Adam\n",
    "# sgd = SGD(lr=lrate, momentum=0.9, decay=decay, nesterov=False)\n",
    "adam = Adam(lr=0.0001)\n",
    "modelFord.compile(optimizer= adam, loss='categorical_crossentropy', metrics=['accuracy'])\n"
   ]
  },
  {
   "cell_type": "code",
   "execution_count": 14,
   "metadata": {},
   "outputs": [
    {
     "name": "stdout",
     "output_type": "stream",
     "text": [
      "WARNING:tensorflow:From C:\\Users\\hala\\Anaconda3\\lib\\site-packages\\tensorflow\\python\\ops\\math_ops.py:3066: to_int32 (from tensorflow.python.ops.math_ops) is deprecated and will be removed in a future version.\n",
      "Instructions for updating:\n",
      "Use tf.cast instead.\n",
      "Epoch 1/100\n",
      "4127/4127 [==============================] - 372s 90ms/step - loss: 3.2869 - acc: 0.1972\n",
      "Epoch 2/100\n",
      "4127/4127 [==============================] - 322s 78ms/step - loss: 2.7250 - acc: 0.2295\n",
      "Epoch 3/100\n",
      "4127/4127 [==============================] - 279s 68ms/step - loss: 2.4696 - acc: 0.2404\n",
      "Epoch 4/100\n",
      "4127/4127 [==============================] - 275s 67ms/step - loss: 2.2606 - acc: 0.2680\n",
      "Epoch 5/100\n",
      "4127/4127 [==============================] - 254s 62ms/step - loss: 2.2060 - acc: 0.2774\n",
      "Epoch 6/100\n",
      "4127/4127 [==============================] - 262s 63ms/step - loss: 2.0395 - acc: 0.3264\n",
      "Epoch 7/100\n",
      "4127/4127 [==============================] - 260s 63ms/step - loss: 1.9164 - acc: 0.3768\n",
      "Epoch 8/100\n",
      "4127/4127 [==============================] - 241s 58ms/step - loss: 1.6823 - acc: 0.4664\n",
      "Epoch 9/100\n",
      "4127/4127 [==============================] - 246s 60ms/step - loss: 1.5029 - acc: 0.5307\n",
      "Epoch 10/100\n",
      "4127/4127 [==============================] - 258s 63ms/step - loss: 1.2904 - acc: 0.6094\n",
      "Epoch 11/100\n",
      "4127/4127 [==============================] - 281s 68ms/step - loss: 1.1187 - acc: 0.6802\n",
      "Epoch 12/100\n",
      "4127/4127 [==============================] - 252s 61ms/step - loss: 0.9705 - acc: 0.7393\n",
      "Epoch 13/100\n",
      "4127/4127 [==============================] - 241s 58ms/step - loss: 0.8493 - acc: 0.7906\n",
      "Epoch 14/100\n",
      "4127/4127 [==============================] - 265s 64ms/step - loss: 0.7466 - acc: 0.8156\n",
      "Epoch 15/100\n",
      "4127/4127 [==============================] - 277s 67ms/step - loss: 0.6116 - acc: 0.8520\n",
      "Epoch 16/100\n",
      "4127/4127 [==============================] - 266s 64ms/step - loss: 0.6166 - acc: 0.8643\n",
      "Epoch 17/100\n",
      "4127/4127 [==============================] - 268s 65ms/step - loss: 0.5855 - acc: 0.8849\n",
      "Epoch 18/100\n",
      "4127/4127 [==============================] - 263s 64ms/step - loss: 0.5385 - acc: 0.8895\n",
      "Epoch 19/100\n",
      "4127/4127 [==============================] - 260s 63ms/step - loss: 0.4733 - acc: 0.9028\n",
      "Epoch 20/100\n",
      "4127/4127 [==============================] - 261s 63ms/step - loss: 0.4410 - acc: 0.9067\n",
      "Epoch 21/100\n",
      "4127/4127 [==============================] - 262s 63ms/step - loss: 0.4625 - acc: 0.9118\n",
      "Epoch 22/100\n",
      "4127/4127 [==============================] - 250s 61ms/step - loss: 0.4453 - acc: 0.9099\n",
      "Epoch 23/100\n",
      "4127/4127 [==============================] - 268s 65ms/step - loss: 0.5167 - acc: 0.8832\n",
      "Epoch 24/100\n",
      "4127/4127 [==============================] - 243s 59ms/step - loss: 0.5056 - acc: 0.8924\n",
      "Epoch 25/100\n",
      "4127/4127 [==============================] - 259s 63ms/step - loss: 0.4399 - acc: 0.9108\n",
      "Epoch 26/100\n",
      "4127/4127 [==============================] - 249s 60ms/step - loss: 0.3276 - acc: 0.9428\n",
      "Epoch 27/100\n",
      "4127/4127 [==============================] - 252s 61ms/step - loss: 0.3437 - acc: 0.9421\n",
      "Epoch 28/100\n",
      "4127/4127 [==============================] - 265s 64ms/step - loss: 0.3843 - acc: 0.9341\n",
      "Epoch 29/100\n",
      "4127/4127 [==============================] - 266s 64ms/step - loss: 0.3484 - acc: 0.9348\n",
      "Epoch 30/100\n",
      "4127/4127 [==============================] - 243s 59ms/step - loss: 0.3611 - acc: 0.9343\n",
      "Epoch 31/100\n",
      "4127/4127 [==============================] - 243s 59ms/step - loss: 0.2912 - acc: 0.9472\n",
      "Epoch 32/100\n",
      "4127/4127 [==============================] - 266s 64ms/step - loss: 0.3372 - acc: 0.9423\n",
      "Epoch 33/100\n",
      "4127/4127 [==============================] - 256s 62ms/step - loss: 0.3732 - acc: 0.9297\n",
      "Epoch 34/100\n",
      "4127/4127 [==============================] - 246s 60ms/step - loss: 0.3557 - acc: 0.9385\n",
      "Epoch 35/100\n",
      "4127/4127 [==============================] - 249s 60ms/step - loss: 0.2933 - acc: 0.9469\n",
      "Epoch 36/100\n",
      "4127/4127 [==============================] - 256s 62ms/step - loss: 0.3223 - acc: 0.9477\n",
      "Epoch 37/100\n",
      "4127/4127 [==============================] - 258s 63ms/step - loss: 0.2948 - acc: 0.9511\n",
      "Epoch 38/100\n",
      "4127/4127 [==============================] - 245s 59ms/step - loss: 0.3269 - acc: 0.9411\n",
      "Epoch 39/100\n",
      "4127/4127 [==============================] - 242s 59ms/step - loss: 0.3154 - acc: 0.9457\n",
      "Epoch 40/100\n",
      "4127/4127 [==============================] - 284s 69ms/step - loss: 0.2987 - acc: 0.9491\n",
      "Epoch 41/100\n",
      "4127/4127 [==============================] - 258s 62ms/step - loss: 0.3848 - acc: 0.9309\n",
      "Epoch 42/100\n",
      "4127/4127 [==============================] - 245s 59ms/step - loss: 0.3718 - acc: 0.9360\n",
      "Epoch 43/100\n",
      "4127/4127 [==============================] - 240s 58ms/step - loss: 0.3175 - acc: 0.9501\n",
      "Epoch 44/100\n",
      "4127/4127 [==============================] - 243s 59ms/step - loss: 0.2659 - acc: 0.9535\n",
      "Epoch 45/100\n",
      "4127/4127 [==============================] - 257s 62ms/step - loss: 0.2833 - acc: 0.9547\n",
      "Epoch 46/100\n",
      "4127/4127 [==============================] - 270s 65ms/step - loss: 0.2699 - acc: 0.9552\n",
      "Epoch 47/100\n",
      "4127/4127 [==============================] - 242s 59ms/step - loss: 0.3067 - acc: 0.9460\n",
      "Epoch 48/100\n",
      "4127/4127 [==============================] - 231s 56ms/step - loss: 0.2679 - acc: 0.9554\n",
      "Epoch 49/100\n",
      "4127/4127 [==============================] - 230s 56ms/step - loss: 0.2445 - acc: 0.9615\n",
      "Epoch 50/100\n",
      "4127/4127 [==============================] - 226s 55ms/step - loss: 0.2440 - acc: 0.9649\n",
      "Epoch 51/100\n",
      "4127/4127 [==============================] - 226s 55ms/step - loss: 0.2704 - acc: 0.9542\n",
      "Epoch 52/100\n",
      "4127/4127 [==============================] - 234s 57ms/step - loss: 0.2957 - acc: 0.9445\n",
      "Epoch 53/100\n",
      "4127/4127 [==============================] - 238s 58ms/step - loss: 0.2340 - acc: 0.9578\n",
      "Epoch 54/100\n",
      "4127/4127 [==============================] - 235s 57ms/step - loss: 0.2350 - acc: 0.9654\n",
      "Epoch 55/100\n",
      "4127/4127 [==============================] - 1165s 282ms/step - loss: 0.2204 - acc: 0.9658\n",
      "Epoch 56/100\n",
      "4127/4127 [==============================] - 228s 55ms/step - loss: 0.3221 - acc: 0.9331\n",
      "Epoch 57/100\n",
      "4127/4127 [==============================] - 229s 56ms/step - loss: 0.2369 - acc: 0.9540\n",
      "Epoch 58/100\n",
      "4127/4127 [==============================] - 227s 55ms/step - loss: 0.2645 - acc: 0.9544\n",
      "Epoch 59/100\n",
      "4127/4127 [==============================] - 226s 55ms/step - loss: 0.2246 - acc: 0.9571\n",
      "Epoch 60/100\n",
      "4127/4127 [==============================] - 225s 55ms/step - loss: 0.2189 - acc: 0.9632\n",
      "Epoch 61/100\n",
      "4127/4127 [==============================] - 224s 54ms/step - loss: 0.2343 - acc: 0.9634\n",
      "Epoch 62/100\n",
      "4127/4127 [==============================] - 223s 54ms/step - loss: 0.2450 - acc: 0.9479\n",
      "Epoch 63/100\n",
      "4127/4127 [==============================] - 226s 55ms/step - loss: 0.1960 - acc: 0.9561\n",
      "Epoch 64/100\n",
      "4127/4127 [==============================] - 1541s 373ms/step - loss: 0.1713 - acc: 0.9690\n",
      "Epoch 65/100\n",
      "4127/4127 [==============================] - 230s 56ms/step - loss: 0.1704 - acc: 0.9704\n",
      "Epoch 66/100\n",
      "4127/4127 [==============================] - 253s 61ms/step - loss: 0.2242 - acc: 0.9455\n",
      "Epoch 67/100\n",
      "4127/4127 [==============================] - 267s 65ms/step - loss: 0.3500 - acc: 0.9208\n",
      "Epoch 68/100\n",
      "4127/4127 [==============================] - 231s 56ms/step - loss: 0.3583 - acc: 0.9145\n",
      "Epoch 69/100\n",
      "4127/4127 [==============================] - 270s 65ms/step - loss: 0.2191 - acc: 0.9457\n",
      "Epoch 70/100\n",
      "4127/4127 [==============================] - 250s 61ms/step - loss: 0.1353 - acc: 0.9750\n",
      "Epoch 71/100\n",
      "4127/4127 [==============================] - 258s 63ms/step - loss: 0.1291 - acc: 0.9753\n",
      "Epoch 72/100\n",
      "4127/4127 [==============================] - 235s 57ms/step - loss: 0.1317 - acc: 0.9678\n",
      "Epoch 73/100\n",
      "4127/4127 [==============================] - 234s 57ms/step - loss: 0.1088 - acc: 0.9714\n",
      "Epoch 74/100\n",
      "4127/4127 [==============================] - 233s 56ms/step - loss: 0.1224 - acc: 0.9770\n",
      "Epoch 75/100\n",
      "4127/4127 [==============================] - 235s 57ms/step - loss: 0.1400 - acc: 0.9680\n",
      "Epoch 76/100\n",
      "4127/4127 [==============================] - 254s 61ms/step - loss: 0.1128 - acc: 0.9789\n",
      "Epoch 77/100\n",
      "4127/4127 [==============================] - 262s 63ms/step - loss: 0.1031 - acc: 0.9755\n",
      "Epoch 78/100\n"
     ]
    },
    {
     "name": "stdout",
     "output_type": "stream",
     "text": [
      "4127/4127 [==============================] - 266s 64ms/step - loss: 0.0704 - acc: 0.9782\n",
      "Epoch 79/100\n",
      "4127/4127 [==============================] - 231s 56ms/step - loss: 0.1314 - acc: 0.9629\n",
      "Epoch 80/100\n",
      "4127/4127 [==============================] - 236s 57ms/step - loss: 0.1341 - acc: 0.9615\n",
      "Epoch 81/100\n",
      "4127/4127 [==============================] - 250s 60ms/step - loss: 0.1063 - acc: 0.9656\n",
      "Epoch 82/100\n",
      "4127/4127 [==============================] - 246s 60ms/step - loss: 0.0585 - acc: 0.9792\n",
      "Epoch 83/100\n",
      "4127/4127 [==============================] - 256s 62ms/step - loss: 0.0558 - acc: 0.9847\n",
      "Epoch 84/100\n",
      "4127/4127 [==============================] - 245s 59ms/step - loss: 0.0426 - acc: 0.9857\n",
      "Epoch 85/100\n",
      "4127/4127 [==============================] - 242s 59ms/step - loss: 0.0402 - acc: 0.9891\n",
      "Epoch 86/100\n",
      "4127/4127 [==============================] - 269s 65ms/step - loss: 0.0543 - acc: 0.9857\n",
      "Epoch 87/100\n",
      "4127/4127 [==============================] - 258s 63ms/step - loss: 0.0286 - acc: 0.9891\n",
      "Epoch 88/100\n",
      "4127/4127 [==============================] - 251s 61ms/step - loss: 0.0430 - acc: 0.9874\n",
      "Epoch 89/100\n",
      "4127/4127 [==============================] - 310s 75ms/step - loss: 0.0540 - acc: 0.9869\n",
      "Epoch 90/100\n",
      "4127/4127 [==============================] - 263s 64ms/step - loss: 0.0374 - acc: 0.9896\n",
      "Epoch 91/100\n",
      "4127/4127 [==============================] - 248s 60ms/step - loss: 0.0364 - acc: 0.9879\n",
      "Epoch 92/100\n",
      "4127/4127 [==============================] - 227s 55ms/step - loss: 0.0305 - acc: 0.9886\n",
      "Epoch 93/100\n",
      "4127/4127 [==============================] - 238s 58ms/step - loss: 0.0391 - acc: 0.9896\n",
      "Epoch 94/100\n",
      "4127/4127 [==============================] - 236s 57ms/step - loss: 0.0519 - acc: 0.9874\n",
      "Epoch 95/100\n",
      "4127/4127 [==============================] - 240s 58ms/step - loss: 0.0392 - acc: 0.9869\n",
      "Epoch 96/100\n",
      "4127/4127 [==============================] - 239s 58ms/step - loss: 0.0472 - acc: 0.9847\n",
      "Epoch 97/100\n",
      "4127/4127 [==============================] - 238s 58ms/step - loss: 0.0486 - acc: 0.9879\n",
      "Epoch 98/100\n",
      "4127/4127 [==============================] - 229s 55ms/step - loss: 0.0487 - acc: 0.9874\n",
      "Epoch 99/100\n",
      "4127/4127 [==============================] - 230s 56ms/step - loss: 0.0388 - acc: 0.9889\n",
      "Epoch 100/100\n",
      "4127/4127 [==============================] - 227s 55ms/step - loss: 0.0467 - acc: 0.9876\n"
     ]
    },
    {
     "data": {
      "text/plain": [
       "<keras.callbacks.History at 0x2407b97b2b0>"
      ]
     },
     "execution_count": 14,
     "metadata": {},
     "output_type": "execute_result"
    }
   ],
   "source": [
    "modelFord.fit(featuresTrain, labelsTrain, epochs = 100, batch_size = 64)"
   ]
  },
  {
   "cell_type": "code",
   "execution_count": 15,
   "metadata": {},
   "outputs": [],
   "source": [
    "modelFord.save('modelFord.h5')"
   ]
  },
  {
   "cell_type": "code",
   "execution_count": 16,
   "metadata": {},
   "outputs": [],
   "source": [
    "labelsTrainTransfom= []\n",
    "for i in range(len(labelsTest)):\n",
    "    if(labelsTest[i]==0):\n",
    "        labelsTrainTransfom.append([1,0,0,0,0,0])\n",
    "    elif (labelsTest[i]==1):\n",
    "        labelsTrainTransfom.append([0,1,0,0,0,0])\n",
    "    elif (labelsTest[i]==2):\n",
    "        labelsTrainTransfom.append([0,0,1,0,0,0])\n",
    "    elif (labelsTest[i]==3):\n",
    "        labelsTrainTransfom.append([0,0,0,1,0,0])\n",
    "    elif (labelsTest[i]==4):\n",
    "        labelsTrainTransfom.append([0,0,0,0,1,0])\n",
    "    elif (labelsTest[i]==5):\n",
    "        labelsTrainTransfom.append([0,0,0,0,0,1])\n",
    "labelsTest = np.array(labelsTrainTransfom)"
   ]
  },
  {
   "cell_type": "code",
   "execution_count": 18,
   "metadata": {},
   "outputs": [
    {
     "name": "stdout",
     "output_type": "stream",
     "text": [
      "1036/1036 [==============================] - 22s 21ms/step\n",
      "Loss = 4.768860765405603\n",
      "Test Accuracy = 0.2944015442864775\n"
     ]
    }
   ],
   "source": [
    "preds = modelFord.evaluate(featuresTest,labelsTest)\n",
    "print (\"Loss = \" + str(preds[0]))\n",
    "print (\"Test Accuracy = \" + str(preds[1]))"
   ]
  },
  {
   "cell_type": "code",
   "execution_count": null,
   "metadata": {},
   "outputs": [],
   "source": []
  }
 ],
 "metadata": {
  "kernelspec": {
   "display_name": "Python 3",
   "language": "python",
   "name": "python3"
  },
  "language_info": {
   "codemirror_mode": {
    "name": "ipython",
    "version": 3
   },
   "file_extension": ".py",
   "mimetype": "text/x-python",
   "name": "python",
   "nbconvert_exporter": "python",
   "pygments_lexer": "ipython3",
   "version": "3.7.1"
  }
 },
 "nbformat": 4,
 "nbformat_minor": 2
}
